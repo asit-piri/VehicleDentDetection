{
 "cells": [
  {
   "cell_type": "markdown",
   "metadata": {},
   "source": [
    "# Detectron 2 Training"
   ]
  },
  {
   "cell_type": "markdown",
   "metadata": {
    "id": "UPRrEkXNsIze"
   },
   "source": [
    "## Installing Dependences\n",
    "\n",
    "we will be using `pip` to install dependencies.\n",
    "Note: use cu101 as colab has CUDA 10.1"
   ]
  },
  {
   "cell_type": "markdown",
   "metadata": {},
   "source": [
    "### Pytorch"
   ]
  },
  {
   "cell_type": "code",
   "execution_count": null,
   "metadata": {
    "id": "uH8sLtqIgFOC"
   },
   "outputs": [],
   "source": [
    "# install dependencies: (use cu101 because colab has CUDA 10.1)\n",
    "!pip install -U torch==1.5 torchvision==0.6 -f https://download.pytorch.org/whl/cu101/torch_stable.html \n",
    "!pip install cython pyyaml==5.1\n",
    "!pip install -U 'git+https://github.com/cocodataset/cocoapi.git#subdirectory=PythonAPI'\n",
    "import torch, torchvision\n",
    "print(torch.__version__, torch.cuda.is_available())\n",
    "!gcc --version\n",
    "# opencv is pre-installed on colab"
   ]
  },
  {
   "cell_type": "markdown",
   "metadata": {
    "id": "fNHVcp0dsVkh"
   },
   "source": [
    "### Detectron\n",
    "\n",
    "Installing Detectron and dependences"
   ]
  },
  {
   "cell_type": "code",
   "execution_count": null,
   "metadata": {
    "id": "zuK3RZLTndw5"
   },
   "outputs": [],
   "source": [
    "!git clone https://github.com/facebookresearch/detectron2 detectron2_repo\n",
    "!pip install -e detectron2_repo"
   ]
  },
  {
   "cell_type": "markdown",
   "metadata": {
    "id": "eqeDZL1HsaVx"
   },
   "source": [
    "##  Google Drive\n",
    "\n",
    "\n",
    "Mouting your Google drive for dataset and model saving.\n",
    "\n",
    "This even though not a required step but it is recommended so as to store the model once trained"
   ]
  },
  {
   "cell_type": "code",
   "execution_count": null,
   "metadata": {
    "id": "__VaQUBniDuD"
   },
   "outputs": [],
   "source": [
    "from google.colab import drive\n",
    "drive.mount('/content/drive')"
   ]
  },
  {
   "cell_type": "markdown",
   "metadata": {},
   "source": [
    "## Model Creation and Training"
   ]
  },
  {
   "cell_type": "markdown",
   "metadata": {
    "id": "IoF8g-Kmsmm4"
   },
   "source": [
    "### Import Modules\n",
    "\n",
    "Here we import all the modules and packages needed for\n",
    "- importing the dataset\n",
    "- processing the dataset\n",
    "- creating the model\n",
    "- training the model"
   ]
  },
  {
   "cell_type": "code",
   "execution_count": null,
   "metadata": {
    "id": "9vu20zKngpPc"
   },
   "outputs": [],
   "source": [
    "\n",
    "import detectron2\n",
    "from detectron2.utils.logger import setup_logger\n",
    "setup_logger()\n",
    "\n",
    "# import some common libraries\n",
    "import matplotlib.pyplot as plt\n",
    "import numpy as np\n",
    "import cv2\n",
    "from google.colab.patches import cv2_imshow\n",
    "\n",
    "# import some common detectron2 utilities\n",
    "from detectron2.engine import DefaultPredictor\n",
    "from detectron2.config import get_cfg\n",
    "from detectron2.utils.visualizer import Visualizer\n",
    "from detectron2.data import MetadataCatalog, DatasetCatalog"
   ]
  },
  {
   "cell_type": "markdown",
   "metadata": {
    "id": "h1skJfGAsrrN"
   },
   "source": [
    "### Dataset"
   ]
  },
  {
   "cell_type": "code",
   "execution_count": null,
   "metadata": {
    "id": "FLj3OD96OW8i"
   },
   "outputs": [],
   "source": [
    "!wget https://storage.googleapis.com/bucket-8732/car_damage/preprocessed.zip\n",
    "!unzip preprocessed.zip"
   ]
  },
  {
   "cell_type": "markdown",
   "metadata": {
    "id": "O3O4YPkCsvOv"
   },
   "source": [
    "Once we have downloaded the dataset we need to regester it as coco format for training"
   ]
  },
  {
   "cell_type": "code",
   "execution_count": null,
   "metadata": {
    "id": "xO5Zj2vphrA0"
   },
   "outputs": [],
   "source": [
    "from detectron2.data.datasets import register_coco_instances\n",
    "register_coco_instances(\"train\", {}, \"/content/outputs/output.json\", \"/content/preprocessed/image/\")\n"
   ]
  },
  {
   "cell_type": "code",
   "execution_count": null,
   "metadata": {
    "id": "ntcQuPXL192R"
   },
   "outputs": [],
   "source": [
    "\n",
    "register_coco_instances(\"train1\", {}, \"/content/train.json\", \"/content/trainimages/\")\n"
   ]
  },
  {
   "cell_type": "markdown",
   "metadata": {
    "id": "ALtH8vYxtETJ"
   },
   "source": [
    "Saving the Metadata of the dataset"
   ]
  },
  {
   "cell_type": "code",
   "execution_count": null,
   "metadata": {
    "id": "ueyA4Wy_hy8t"
   },
   "outputs": [],
   "source": [
    "sample_metadata = MetadataCatalog.get(\"train\")\n",
    "dataset_dicts = DatasetCatalog.get(\"train\")\n",
    "sample_metadata1 = MetadataCatalog.get(\"train1\")\n",
    "dataset_dicts1 = DatasetCatalog.get(\"train1\")"
   ]
  },
  {
   "cell_type": "markdown",
   "metadata": {
    "id": "LY5QtATQtLgO"
   },
   "source": [
    "### Dataset Exploration (Optional)\n",
    "\n",
    "Exploring the Data set before traning."
   ]
  },
  {
   "cell_type": "code",
   "execution_count": null,
   "metadata": {
    "id": "pfvft7q4n8Ny"
   },
   "outputs": [],
   "source": [
    "import random\n",
    "\n",
    "for d in random.sample(dataset_dicts1, 4):\n",
    "    file_name = d[\"file_name\"]\n",
    "    print(file_name)\n",
    "    img = cv2.imread(file_name)\n",
    "    visualizer = Visualizer(img[:, :, ::-1], metadata=sample_metadata, scale=0.5)\n",
    "    vis = visualizer.draw_dataset_dict(d)\n",
    "    cv2_imshow(vis.get_image()[:, :, ::-1])"
   ]
  },
  {
   "cell_type": "markdown",
   "metadata": {
    "id": "XuzC7n01tO9W"
   },
   "source": [
    "### Model Creation\n",
    "\n",
    "\n",
    "Here we add the important options to the model configuration object that we will later use for training the model.\n",
    "\n",
    "The basic model hyperparameters and parameters are set here."
   ]
  },
  {
   "cell_type": "code",
   "execution_count": null,
   "metadata": {
    "id": "s8RsZeWloSrn"
   },
   "outputs": [],
   "source": [
    "from detectron2.engine import DefaultTrainer\n",
    "from detectron2.config import get_cfg\n",
    "import os\n",
    "\n",
    "cfg = get_cfg()\n",
    "cfg.merge_from_file(\"./detectron2_repo/configs/COCO-InstanceSegmentation/mask_rcnn_R_50_FPN_3x.yaml\")\n",
    "cfg.DATASETS.TRAIN = (\"train\",\"train1\")\n",
    "cfg.DATASETS.TEST = ()   # no metrics implemented for this dataset\n",
    "cfg.DATALOADER.NUM_WORKERS = 2\n",
    "cfg.MODEL.WEIGHTS = \"detectron2://COCO-InstanceSegmentation/mask_rcnn_R_50_FPN_3x/137849600/model_final_f10217.pkl\"  # initialize from model zoo\n",
    "cfg.SOLVER.CLIP_GRADIENTS.ENABLED=True\n",
    "cfg.INPUT.CROP.ENABLED = True\n",
    "cfg.SOLVER.IMS_PER_BATCH = 2\n",
    "cfg.SOLVER.BASE_LR = 0.005\n",
    "cfg.SOLVER.MAX_ITER = 25000  \n",
    "cfg.MODEL.ROI_HEADS.BATCH_SIZE_PER_IMAGE = 512 \n",
    "cfg.MODEL.ROI_HEADS.NUM_CLASSES = 3  # 3 classes (Person, Helmet, Car)\n",
    "cfg.OUTPUT_DIR = \"/content/outputs\"\n",
    "os.makedirs(cfg.OUTPUT_DIR, exist_ok=True)"
   ]
  },
  {
   "cell_type": "markdown",
   "metadata": {},
   "source": [
    "### Model Training"
   ]
  },
  {
   "cell_type": "code",
   "execution_count": null,
   "metadata": {},
   "outputs": [],
   "source": [
    "trainer = DefaultTrainer(cfg)\n",
    "trainer.resume_or_load(resume=True)\n",
    "trainer.train()"
   ]
  }
 ],
 "metadata": {
  "colab": {
   "name": "Detectron2_Traning.ipynb",
   "provenance": []
  },
  "kernelspec": {
   "display_name": "Python 3",
   "language": "python",
   "name": "python3"
  },
  "language_info": {
   "codemirror_mode": {
    "name": "ipython",
    "version": 3
   },
   "file_extension": ".py",
   "mimetype": "text/x-python",
   "name": "python",
   "nbconvert_exporter": "python",
   "pygments_lexer": "ipython3",
   "version": "3.8.3"
  },
  "toc-autonumbering": false,
  "toc-showcode": false,
  "toc-showmarkdowntxt": false
 },
 "nbformat": 4,
 "nbformat_minor": 4
}

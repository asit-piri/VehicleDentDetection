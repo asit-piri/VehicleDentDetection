{
  "nbformat": 4,
  "nbformat_minor": 0,
  "metadata": {
    "colab": {
      "name": "Detectron_inference.ipynb",
      "provenance": [],
      "collapsed_sections": []
    },
    "kernelspec": {
      "name": "python3",
      "display_name": "Python 3"
    },
    "accelerator": "GPU"
  },
  "cells": [
    {
      "cell_type": "markdown",
      "metadata": {
        "id": "rxmyQtRzAqzx"
      },
      "source": [
        "Install Py Torch library"
      ]
    },
    {
      "cell_type": "code",
      "metadata": {
        "id": "uH8sLtqIgFOC"
      },
      "source": [
        "# install dependencies: (use cu101 because colab has CUDA 10.1)\n",
        "!pip install -U torch==1.5 torchvision==0.6 -f https://download.pytorch.org/whl/cu101/torch_stable.html \n",
        "!pip install cython pyyaml==5.1\n",
        "!pip install -U 'git+https://github.com/cocodataset/cocoapi.git#subdirectory=PythonAPI'\n",
        "import torch, torchvision\n",
        "print(torch.__version__, torch.cuda.is_available())\n",
        "!gcc --version\n",
        "# opencv is pre-installed on colab"
      ],
      "execution_count": null,
      "outputs": []
    },
    {
      "cell_type": "markdown",
      "metadata": {
        "id": "Vmh2GrvWCILo"
      },
      "source": [
        "Install Detectron 2 \n",
        "\n",
        "The code will ask to restart the runtime to restart the runtime from Runtime > Restart runtime \n"
      ]
    },
    {
      "cell_type": "code",
      "metadata": {
        "id": "zuK3RZLTndw5"
      },
      "source": [
        "!git clone https://github.com/facebookresearch/detectron2 detectron2_repo\n",
        "!pip install -e detectron2_repo"
      ],
      "execution_count": null,
      "outputs": []
    },
    {
      "cell_type": "markdown",
      "metadata": {
        "id": "FwL7TtkID7j2"
      },
      "source": [
        "Link your Google Drive you can skip this if your not using google drive for Model file (.pth) and inference input video"
      ]
    },
    {
      "cell_type": "code",
      "metadata": {
        "id": "__VaQUBniDuD"
      },
      "source": [
        "from google.colab import drive\n",
        "drive.mount('/content/drive')"
      ],
      "execution_count": null,
      "outputs": []
    },
    {
      "cell_type": "markdown",
      "metadata": {
        "id": "6oeZ94eLCjVI"
      },
      "source": [
        "Importing the Detectron and Pytorch libraries"
      ]
    },
    {
      "cell_type": "code",
      "metadata": {
        "id": "9vu20zKngpPc"
      },
      "source": [
        "\n",
        "import detectron2\n",
        "from detectron2.utils.logger import setup_logger\n",
        "setup_logger()\n",
        "\n",
        "# import some common libraries\n",
        "import matplotlib.pyplot as plt\n",
        "import numpy as np\n",
        "import cv2\n",
        "from google.colab.patches import cv2_imshow\n",
        "\n",
        "# import some common detectron2 utilities\n",
        "from detectron2.engine import DefaultPredictor\n",
        "from detectron2.config import get_cfg\n",
        "from detectron2.utils.visualizer import Visualizer\n",
        "from detectron2.data import MetadataCatalog, DatasetCatalog"
      ],
      "execution_count": null,
      "outputs": []
    },
    {
      "cell_type": "markdown",
      "metadata": {
        "id": "PJL-UH30CpYh"
      },
      "source": [
        "Importing the Predictor aong with the Configuration."
      ]
    },
    {
      "cell_type": "code",
      "metadata": {
        "id": "s8RsZeWloSrn"
      },
      "source": [
        "from detectron2.engine import DefaultTrainer\n",
        "from detectron2.config import get_cfg\n",
        "import os\n",
        "\n",
        "cfg = get_cfg()\n",
        "cfg.merge_from_file(\"./detectron2_repo/configs/COCO-InstanceSegmentation/mask_rcnn_R_50_FPN_3x.yaml\")\n",
        "cfg.DATASETS.TRAIN = (\"train\",\"train1\")\n",
        "cfg.DATASETS.TEST = ()   # no metrics implemented for this dataset\n",
        "cfg.DATALOADER.NUM_WORKERS = 2\n",
        "cfg.MODEL.WEIGHTS = \"detectron2://COCO-InstanceSegmentation/mask_rcnn_R_50_FPN_3x/137849600/model_final_f10217.pkl\"  # initialize from model zoo\n",
        "cfg.SOLVER.CLIP_GRADIENTS.ENABLED=True\n",
        "cfg.INPUT.CROP.ENABLED = True\n",
        "cfg.SOLVER.IMS_PER_BATCH = 2\n",
        "cfg.SOLVER.BASE_LR = 0.005\n",
        "cfg.SOLVER.MAX_ITER = 25000  \n",
        "cfg.MODEL.ROI_HEADS.BATCH_SIZE_PER_IMAGE = 512 \n",
        "cfg.MODEL.ROI_HEADS.NUM_CLASSES = 3  # 3 classes (Person, Helmet, Car)\n",
        "cfg.MODEL.DEVICE='cuda'\n",
        "cfg.OUTPUT_DIR = \"/content/outputs\"\n",
        "os.makedirs(cfg.OUTPUT_DIR, exist_ok=True)\n",
        "# trainer = DefaultTrainer(cfg)\n",
        "# trainer.resume_or_load(resume=True)\n",
        "# trainer.train()"
      ],
      "execution_count": null,
      "outputs": []
    },
    {
      "cell_type": "markdown",
      "metadata": {
        "id": "UtaFrYxICy1_"
      },
      "source": [
        "Loading weigths from the Given path"
      ]
    },
    {
      "cell_type": "code",
      "metadata": {
        "id": "iAgSZgTC2Fd1"
      },
      "source": [
        "cfg.MODEL.WEIGHTS = \"/content/drive/MyDrive/model_final.pth\"#os.path.join(cfg.OUTPUT_DIR, \"model_final.pth\")\n",
        "cfg.MODEL.ROI_HEADS.SCORE_THRESH_TEST = 0.7   # set the testing threshold for this model\n",
        "cfg.DATASETS.TEST = (\"train\", )\n",
        "predictor = DefaultPredictor(cfg)"
      ],
      "execution_count": null,
      "outputs": []
    },
    {
      "cell_type": "markdown",
      "metadata": {
        "id": "PAxoSLxtDYrc"
      },
      "source": [
        "**Inference**\n",
        "<br>\n",
        "Need to give the Pah to the input video and the file extesntion recomended to use **.mp4** **"
      ]
    },
    {
      "cell_type": "code",
      "metadata": {
        "id": "wkMYKRhGDDwL"
      },
      "source": [
        "predictor = DefaultPredictor(cfg)\n",
        "from detectron2.utils.visualizer import ColorMode\n",
        "\n",
        "filenames =['/content/cardamage.mp4']\n",
        "filename = filenames[0]\n",
        "cap = cv2.VideoCapture(filename)\n",
        "width = int(cap.get(cv2.CAP_PROP_FRAME_WIDTH))\n",
        "height = int(cap.get(cv2.CAP_PROP_FRAME_HEIGHT))\n",
        "frames_per_second = cap.get(cv2.CAP_PROP_FPS)\n",
        "num_frames = int(cap.get(cv2.CAP_PROP_FRAME_COUNT))\n",
        "basename = os.path.basename(filename)\n",
        "# frame_width = int(cap.get(3)) \n",
        "# frame_height = int(cap.get(4)) \n",
        "   \n",
        "size = (width, height) \n",
        "result = cv2.VideoWriter('output_video.mp4',  \n",
        "                         cv2.VideoWriter_fourcc(*'MJPG'),\n",
        "                         frames_per_second, size)\n",
        "\n",
        "print(num_frames)\n",
        "print(size)\n",
        "for _ in range(num_frames):\n",
        "\tret, im = cap.read()\n",
        "\toutputs = predictor(im)\n",
        "\tv = Visualizer(im[:, :, ::-1], \n",
        "\t\t\t\t\t\t\t\t\t\tMetadataCatalog.get(\"train\"), \n",
        "\t\t\t\t\t\t\t\t\t\tscale=1, \n",
        "\t\t\t\t\t\t\t\t\t\tinstance_mode=ColorMode.IMAGE_BW)\n",
        "\tv = v.draw_instance_predictions(outputs[\"instances\"].to(\"cpu\"))\n",
        "\timg = v.get_image()[:,:,::-1]\n",
        "\tresult.write(img)\n",
        "cap.release()\n",
        "result.release()\n",
        " \n",
        "\n"
      ],
      "execution_count": null,
      "outputs": []
    }
  ]
}
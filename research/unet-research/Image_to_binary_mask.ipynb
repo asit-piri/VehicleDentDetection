{
 "cells": [
  {
   "cell_type": "code",
   "execution_count": 20,
   "metadata": {},
   "outputs": [],
   "source": [
    "import os\n",
    "import sys\n",
    "import random\n",
    "import warnings\n",
    "import numpy as np\n",
    "import pandas as pd\n",
    "import matplotlib\n",
    "matplotlib.use('agg')\n",
    "import matplotlib.pyplot as plt\n",
    "from tqdm import tqdm\n",
    "from itertools import chain\n",
    "from skimage.io import imread, imshow, imread_collection, concatenate_images\n",
    "from skimage.transform import resize\n",
    "import json\n",
    "from skimage import draw\n",
    "from skimage import io\n",
    "from skimage.draw import ellipse\n",
    "import cv2\n",
    "import tifffile\n",
    "from IPython.display import Image\n",
    "import matplotlib.image as mpimg\n",
    "matplotlib.use('TkAgg')\n",
    "from operator import itemgetter\n",
    "from PIL import Image\n",
    "import bz2\n",
    "import glob\n",
    "import argparse"
   ]
  },
  {
   "cell_type": "code",
   "execution_count": 69,
   "metadata": {},
   "outputs": [],
   "source": [
    "path_image=\"data/training/\"\n",
    "path_json=\"data/trainjson/\"\n",
    "output_folder=\"data/output/\"\n",
    "paths=\"data/images/*.*\""
   ]
  },
  {
   "cell_type": "code",
   "execution_count": 70,
   "metadata": {},
   "outputs": [],
   "source": [
    "def image_binary(path):\n",
    "    \n",
    "    for files_name in [file for file in os.listdir(path) if file.endswith('.json')]:\n",
    "        f1=os.path.splitext(files_name)[0]\n",
    "        print(f1)\n",
    "        \n",
    "        for file in glob.glob(paths):\n",
    "            f2=file.split()[0][12:-4]\n",
    "            if (f1==f2):\n",
    "                \n",
    "                with open(path + files_name) as json_file:\n",
    "                    d=json.load(json_file)\n",
    "                    img = cv2.imread(file)\n",
    "                    k = cv2.waitKey(0)\n",
    "                    cv2.destroyAllWindows()\n",
    "                    img=img.copy()\n",
    "                    x=list(map(itemgetter('points'),d['shapes']))\n",
    "                    polygon_numpy=np.array(x)\n",
    "                    p = polygon_numpy.squeeze()\n",
    "                    r, c = draw.polygon(p[:,1],p[:,0])\n",
    "                    img[r,c]=0\n",
    "                    grayImage = cv2.cvtColor(img, cv2.COLOR_BGR2GRAY)\n",
    "                    (thresh,blackAndWhiteImage) = cv2.threshold(grayImage,1, 255, cv2.THRESH_BINARY)\n",
    "                    data=Image.fromarray(blackAndWhiteImage)\n",
    "                    save_fname = os.path.join(output_folder, os.path.basename(f1)+'.jpg')\n",
    "                    data.save(save_fname) \n",
    "                \n",
    "            else:\n",
    "                print('a')\n",
    "           \n",
    "            "
   ]
  },
  {
   "cell_type": "code",
   "execution_count": 71,
   "metadata": {},
   "outputs": [
    {
     "name": "stdout",
     "output_type": "stream",
     "text": [
      "1\n",
      "a\n",
      "a\n",
      "a\n",
      "a\n",
      "a\n",
      "a\n",
      "1280px-German_Shepherd_Dog_with_disc\n",
      "a\n",
      "a\n",
      "a\n",
      "a\n",
      "a\n",
      "a\n",
      "14-german-shepherd-CruftsChannel4\n",
      "a\n",
      "a\n",
      "a\n",
      "a\n",
      "a\n",
      "a\n",
      "3451e49fa7e5f3584138c4cbb983112e\n",
      "a\n",
      "a\n",
      "a\n",
      "a\n",
      "a\n",
      "a\n",
      "Correct-Type-Best-in-Show-Westminster-2017-RUMOR\n",
      "a\n",
      "a\n",
      "a\n",
      "a\n",
      "a\n",
      "a\n",
      "Dog_Golden-Retriever_Mobile\n",
      "a\n",
      "a\n",
      "a\n",
      "a\n",
      "a\n",
      "a\n",
      "German_Shepherd_-_DSC_0346_(10096362833)\n",
      "a\n",
      "a\n",
      "a\n",
      "a\n",
      "a\n",
      "a\n"
     ]
    }
   ],
   "source": [
    "image_binary(path_image)"
   ]
  },
  {
   "cell_type": "code",
   "execution_count": 54,
   "metadata": {},
   "outputs": [
    {
     "name": "stdout",
     "output_type": "stream",
     "text": [
      "data/images\\1.jpg\n",
      "1\n",
      "[[[157 158 162]\n",
      "  [156 157 161]\n",
      "  [155 156 160]\n",
      "  ...\n",
      "  [137 161 167]\n",
      "  [143 167 173]\n",
      "  [146 170 176]]\n",
      "\n",
      " [[154 155 159]\n",
      "  [154 155 159]\n",
      "  [153 155 156]\n",
      "  ...\n",
      "  [136 161 165]\n",
      "  [143 168 172]\n",
      "  [146 171 175]]\n",
      "\n",
      " [[149 153 154]\n",
      "  [149 153 154]\n",
      "  [148 153 152]\n",
      "  ...\n",
      "  [136 161 165]\n",
      "  [142 167 171]\n",
      "  [145 170 174]]\n",
      "\n",
      " ...\n",
      "\n",
      " [[155 190 170]\n",
      "  [151 187 171]\n",
      "  [143 180 170]\n",
      "  ...\n",
      "  [ 57 103  80]\n",
      "  [ 47  93  70]\n",
      "  [ 39  85  62]]\n",
      "\n",
      " [[129 164 137]\n",
      "  [106 145 119]\n",
      "  [105 154 126]\n",
      "  ...\n",
      "  [ 26  63  59]\n",
      "  [ 46  83  79]\n",
      "  [ 62  99  95]]\n",
      "\n",
      " [[149 185 149]\n",
      "  [102 145 108]\n",
      "  [113 168 129]\n",
      "  ...\n",
      "  [ 48 104  85]\n",
      "  [ 75 131 112]\n",
      "  [ 67 123 104]]]\n",
      "data/images\\1280px-German_Shepherd_Dog_with_disc.jpg\n",
      "1280px-German_Shepherd_Dog_with_disc\n",
      "[[[100 179 138]\n",
      "  [ 98 177 136]\n",
      "  [ 95 174 135]\n",
      "  ...\n",
      "  [ 82 184 137]\n",
      "  [ 73 175 128]\n",
      "  [ 81 183 136]]\n",
      "\n",
      " [[105 184 143]\n",
      "  [100 179 138]\n",
      "  [ 92 171 132]\n",
      "  ...\n",
      "  [ 73 175 128]\n",
      "  [ 65 167 120]\n",
      "  [ 68 170 123]]\n",
      "\n",
      " [[106 185 144]\n",
      "  [100 179 138]\n",
      "  [ 92 171 130]\n",
      "  ...\n",
      "  [ 70 172 125]\n",
      "  [ 68 169 124]\n",
      "  [ 68 169 124]]\n",
      "\n",
      " ...\n",
      "\n",
      " [[ 95 188 137]\n",
      "  [ 61 157 103]\n",
      "  [ 51 147  93]\n",
      "  ...\n",
      "  [ 70 171 126]\n",
      "  [ 66 172 125]\n",
      "  [ 58 167 119]]\n",
      "\n",
      " [[ 93 185 132]\n",
      "  [ 67 161 106]\n",
      "  [ 61 155 100]\n",
      "  ...\n",
      "  [ 88 189 144]\n",
      "  [ 73 182 134]\n",
      "  [ 69 179 131]]\n",
      "\n",
      " [[ 80 173 118]\n",
      "  [ 79 172 117]\n",
      "  [ 75 169 114]\n",
      "  ...\n",
      "  [ 92 193 148]\n",
      "  [ 85 194 146]\n",
      "  [ 68 178 130]]]\n",
      "data/images\\14-german-shepherd-CruftsChannel4.jpg\n",
      "14-german-shepherd-CruftsChannel4\n",
      "[[[ 79 163  75]\n",
      "  [ 80 164  76]\n",
      "  [ 82 166  78]\n",
      "  ...\n",
      "  [ 43  26  29]\n",
      "  [ 43  26  29]\n",
      "  [ 43  26  29]]\n",
      "\n",
      " [[ 80 164  76]\n",
      "  [ 81 165  77]\n",
      "  [ 83 167  79]\n",
      "  ...\n",
      "  [ 42  25  28]\n",
      "  [ 42  25  28]\n",
      "  [ 42  25  28]]\n",
      "\n",
      " [[ 80 164  76]\n",
      "  [ 81 165  77]\n",
      "  [ 83 167  79]\n",
      "  ...\n",
      "  [ 40  23  26]\n",
      "  [ 40  23  26]\n",
      "  [ 40  23  26]]\n",
      "\n",
      " ...\n",
      "\n",
      " [[160 253 124]\n",
      "  [158 254 124]\n",
      "  [160 253 124]\n",
      "  ...\n",
      "  [146 252 122]\n",
      "  [148 251 124]\n",
      "  [144 250 120]]\n",
      "\n",
      " [[157 253 123]\n",
      "  [155 254 122]\n",
      "  [157 253 123]\n",
      "  ...\n",
      "  [141 247 117]\n",
      "  [139 245 115]\n",
      "  [136 242 112]]\n",
      "\n",
      " [[153 252 120]\n",
      "  [151 253 118]\n",
      "  [155 254 122]\n",
      "  ...\n",
      "  [132 241 109]\n",
      "  [132 241 109]\n",
      "  [131 240 108]]]\n",
      "data/images\\3451e49fa7e5f3584138c4cbb983112e.jpg\n",
      "3451e49fa7e5f3584138c4cbb983112e\n",
      "[[[226 233 252]\n",
      "  [231 241 255]\n",
      "  [226 235 255]\n",
      "  ...\n",
      "  [226 248 254]\n",
      "  [226 248 254]\n",
      "  [226 248 254]]\n",
      "\n",
      " [[225 235 253]\n",
      "  [221 231 249]\n",
      "  [219 230 250]\n",
      "  ...\n",
      "  [226 248 254]\n",
      "  [226 248 254]\n",
      "  [226 248 254]]\n",
      "\n",
      " [[219 233 251]\n",
      "  [215 229 247]\n",
      "  [216 231 250]\n",
      "  ...\n",
      "  [226 248 254]\n",
      "  [226 248 254]\n",
      "  [226 248 254]]\n",
      "\n",
      " ...\n",
      "\n",
      " [[ 16  31  47]\n",
      "  [ 10  25  41]\n",
      "  [ 11  27  44]\n",
      "  ...\n",
      "  [115 153 177]\n",
      "  [114 152 176]\n",
      "  [110 148 172]]\n",
      "\n",
      " [[ 14  29  45]\n",
      "  [  9  24  40]\n",
      "  [ 11  27  44]\n",
      "  ...\n",
      "  [110 148 172]\n",
      "  [111 149 173]\n",
      "  [110 148 172]]\n",
      "\n",
      " [[ 15  30  46]\n",
      "  [ 13  28  44]\n",
      "  [ 20  36  53]\n",
      "  ...\n",
      "  [105 143 167]\n",
      "  [108 146 170]\n",
      "  [108 146 170]]]\n",
      "data/images\\Correct-Type-Best-in-Show-Westminster-2017-RUMOR.jpg\n",
      "Correct-Type-Best-in-Show-Westminster-2017-RUMOR\n",
      "[[[ 30  31  41]\n",
      "  [ 31  32  42]\n",
      "  [ 31  32  42]\n",
      "  ...\n",
      "  [ 61 125  96]\n",
      "  [ 62 124  94]\n",
      "  [ 62 124  94]]\n",
      "\n",
      " [[ 32  33  43]\n",
      "  [ 32  33  43]\n",
      "  [ 32  33  43]\n",
      "  ...\n",
      "  [ 61 125  96]\n",
      "  [ 62 123  95]\n",
      "  [ 62 124  94]]\n",
      "\n",
      " [[ 34  35  45]\n",
      "  [ 34  35  45]\n",
      "  [ 33  34  44]\n",
      "  ...\n",
      "  [ 62 123  95]\n",
      "  [ 64 123  95]\n",
      "  [ 64 123  95]]\n",
      "\n",
      " ...\n",
      "\n",
      " [[ 29  64  30]\n",
      "  [ 34  71  39]\n",
      "  [ 51  86  59]\n",
      "  ...\n",
      "  [ 49 121  78]\n",
      "  [ 61 134  94]\n",
      "  [ 66 141 103]]\n",
      "\n",
      " [[ 27  62  28]\n",
      "  [ 32  66  35]\n",
      "  [ 43  75  50]\n",
      "  ...\n",
      "  [ 52 124  81]\n",
      "  [ 62 134  92]\n",
      "  [ 67 140 100]]\n",
      "\n",
      " [[ 28  63  29]\n",
      "  [ 30  64  33]\n",
      "  [ 36  68  43]\n",
      "  ...\n",
      "  [ 54 126  83]\n",
      "  [ 61 133  91]\n",
      "  [ 66 139  99]]]\n",
      "data/images\\Dog_Golden-Retriever_Mobile.jpg\n",
      "Dog_Golden-Retriever_Mobile\n",
      "[[[133 164 187]\n",
      "  [137 168 191]\n",
      "  [143 174 197]\n",
      "  ...\n",
      "  [144 178 201]\n",
      "  [144 178 201]\n",
      "  [145 179 202]]\n",
      "\n",
      " [[134 162 186]\n",
      "  [137 168 189]\n",
      "  [145 173 197]\n",
      "  ...\n",
      "  [144 176 199]\n",
      "  [142 177 197]\n",
      "  [145 177 200]]\n",
      "\n",
      " [[135 162 183]\n",
      "  [138 168 187]\n",
      "  [146 173 194]\n",
      "  ...\n",
      "  [141 172 193]\n",
      "  [140 173 192]\n",
      "  [142 173 194]]\n",
      "\n",
      " ...\n",
      "\n",
      " [[203 200 196]\n",
      "  [202 199 195]\n",
      "  [202 199 195]\n",
      "  ...\n",
      "  [219 216 212]\n",
      "  [220 217 213]\n",
      "  [221 218 214]]\n",
      "\n",
      " [[204 201 197]\n",
      "  [205 202 198]\n",
      "  [206 203 199]\n",
      "  ...\n",
      "  [224 221 217]\n",
      "  [225 222 218]\n",
      "  [225 222 218]]\n",
      "\n",
      " [[218 215 211]\n",
      "  [219 216 212]\n",
      "  [221 218 214]\n",
      "  ...\n",
      "  [224 221 217]\n",
      "  [224 221 217]\n",
      "  [224 221 217]]]\n",
      "data/images\\German_Shepherd_-_DSC_0346_(10096362833).jpg\n",
      "German_Shepherd_-_DSC_0346_(10096362833)\n",
      "[[[187 167 102]\n",
      "  [188 168 103]\n",
      "  [191 171 106]\n",
      "  ...\n",
      "  [192 170 112]\n",
      "  [189 167 109]\n",
      "  [186 163 107]]\n",
      "\n",
      " [[186 166 101]\n",
      "  [184 166 101]\n",
      "  [188 168 103]\n",
      "  ...\n",
      "  [193 171 113]\n",
      "  [192 170 112]\n",
      "  [191 168 112]]\n",
      "\n",
      " [[191 173 108]\n",
      "  [190 174 108]\n",
      "  [190 172 107]\n",
      "  ...\n",
      "  [194 171 115]\n",
      "  [195 172 116]\n",
      "  [196 172 118]]\n",
      "\n",
      " ...\n",
      "\n",
      " [[206 218 220]\n",
      "  [207 216 219]\n",
      "  [210 217 220]\n",
      "  ...\n",
      "  [185 197 203]\n",
      "  [184 196 202]\n",
      "  [181 193 199]]\n",
      "\n",
      " [[191 203 207]\n",
      "  [196 208 212]\n",
      "  [190 201 205]\n",
      "  ...\n",
      "  [188 200 206]\n",
      "  [186 198 204]\n",
      "  [185 197 203]]\n",
      "\n",
      " [[197 211 217]\n",
      "  [184 198 204]\n",
      "  [199 213 219]\n",
      "  ...\n",
      "  [182 196 202]\n",
      "  [182 196 202]\n",
      "  [193 207 213]]]\n"
     ]
    }
   ],
   "source": [
    "for file in glob.glob(path):\n",
    "    \n",
    "    print(file)\n",
    "    print(file.split()[0][12:-4])\n",
    "    a= cv2.imread(file)\n",
    "    print(a)\n",
    "    #c = cv2.cvtColor(a, cv2.COLOR_BGR2RGB)\n",
    "    #cv2.imshow('Color image', c)\n",
    "    #wait for 1 second\n",
    "    k = cv2.waitKey(1000)\n",
    "    #destroy the window\n",
    "    cv2.destroyAllWindows()"
   ]
  },
  {
   "cell_type": "code",
   "execution_count": null,
   "metadata": {},
   "outputs": [],
   "source": [
    "x=os.listdir(\"data/trainjson/\")"
   ]
  },
  {
   "cell_type": "code",
   "execution_count": 69,
   "metadata": {},
   "outputs": [
    {
     "name": "stdout",
     "output_type": "stream",
     "text": [
      "1.jpg\n",
      "1280px-German_Shepherd_Dog_with_disc.jpg\n",
      "14-german-shepherd-CruftsChannel4.jpg\n",
      "3451e49fa7e5f3584138c4cbb983112e.jpg\n",
      "Correct-Type-Best-in-Show-Westminster-2017-RUMOR.jpg\n"
     ]
    }
   ],
   "source": [
    "for file_name in [file for file in os.listdir(path_image) if file.endswith('.jpg')]:\n",
    "        print(file_name)"
   ]
  },
  {
   "cell_type": "code",
   "execution_count": 34,
   "metadata": {},
   "outputs": [],
   "source": [
    "for file_name in [file for file in os.listdir(path_json) if file.endswith('.json')]:\n",
    "    with open(path_json + file_name) as json_file:\n",
    "        d = json.load(json_file)\n",
    "        x=list(map(itemgetter('points'),d['shapes']))"
   ]
  },
  {
   "cell_type": "code",
   "execution_count": null,
   "metadata": {},
   "outputs": [],
   "source": []
  },
  {
   "cell_type": "code",
   "execution_count": null,
   "metadata": {},
   "outputs": [],
   "source": []
  },
  {
   "cell_type": "code",
   "execution_count": null,
   "metadata": {},
   "outputs": [],
   "source": [
    "from operator import itemgetter\n",
    "x=list(map(itemgetter('points'),d['shapes']))"
   ]
  },
  {
   "cell_type": "code",
   "execution_count": null,
   "metadata": {},
   "outputs": [],
   "source": []
  },
  {
   "cell_type": "code",
   "execution_count": null,
   "metadata": {},
   "outputs": [],
   "source": [
    "from PIL import Image"
   ]
  },
  {
   "cell_type": "code",
   "execution_count": null,
   "metadata": {},
   "outputs": [],
   "source": []
  },
  {
   "cell_type": "code",
   "execution_count": null,
   "metadata": {},
   "outputs": [],
   "source": [
    "h = d['imageHeight']\n",
    "w = d['imageWidth']"
   ]
  },
  {
   "cell_type": "code",
   "execution_count": 20,
   "metadata": {},
   "outputs": [],
   "source": [
    "img = plt.imread(\"1.jpg\")"
   ]
  },
  {
   "cell_type": "code",
   "execution_count": 27,
   "metadata": {},
   "outputs": [
    {
     "name": "stdout",
     "output_type": "stream",
     "text": [
      "<class 'numpy.ndarray'>\n"
     ]
    }
   ],
   "source": [
    "print(type(img))"
   ]
  },
  {
   "cell_type": "code",
   "execution_count": null,
   "metadata": {},
   "outputs": [],
   "source": [
    "img=img.copy()"
   ]
  },
  {
   "cell_type": "code",
   "execution_count": 13,
   "metadata": {},
   "outputs": [],
   "source": [
    "i=cv2.imread('data/images/1280px-German_Shepherd_Dog_with_disc.jpg')"
   ]
  },
  {
   "cell_type": "code",
   "execution_count": 14,
   "metadata": {},
   "outputs": [
    {
     "name": "stdout",
     "output_type": "stream",
     "text": [
      "<class 'numpy.ndarray'>\n"
     ]
    }
   ],
   "source": [
    "print(type(i))"
   ]
  },
  {
   "cell_type": "code",
   "execution_count": 19,
   "metadata": {},
   "outputs": [
    {
     "data": {
      "text/plain": [
       "(480, 852, 3)"
      ]
     },
     "execution_count": 19,
     "metadata": {},
     "output_type": "execute_result"
    }
   ],
   "source": [
    "i.co"
   ]
  },
  {
   "cell_type": "code",
   "execution_count": null,
   "metadata": {},
   "outputs": [],
   "source": [
    "polygon_numpy=np.array(x)"
   ]
  },
  {
   "cell_type": "code",
   "execution_count": null,
   "metadata": {},
   "outputs": [],
   "source": [
    "polygon_numpy.shape"
   ]
  },
  {
   "cell_type": "code",
   "execution_count": null,
   "metadata": {},
   "outputs": [],
   "source": [
    "p = polygon_numpy.squeeze()\n",
    "p.shape"
   ]
  },
  {
   "cell_type": "code",
   "execution_count": null,
   "metadata": {},
   "outputs": [],
   "source": [
    "r, c = draw.polygon(p[:,1],p[:,0])"
   ]
  },
  {
   "cell_type": "code",
   "execution_count": null,
   "metadata": {},
   "outputs": [],
   "source": [
    "img[r,c]=0"
   ]
  },
  {
   "cell_type": "code",
   "execution_count": null,
   "metadata": {},
   "outputs": [],
   "source": [
    "plt.imshow(img)\n",
    "plt.show()"
   ]
  },
  {
   "cell_type": "code",
   "execution_count": null,
   "metadata": {},
   "outputs": [],
   "source": [
    "data=Image.fromarray(img)\n",
    "data.save('gfg_dummy_pic1.png') "
   ]
  },
  {
   "cell_type": "code",
   "execution_count": null,
   "metadata": {},
   "outputs": [],
   "source": [
    "grayImage = cv2.cvtColor(img, cv2.COLOR_BGR2GRAY)"
   ]
  },
  {
   "cell_type": "code",
   "execution_count": null,
   "metadata": {},
   "outputs": [],
   "source": [
    "plt.imshow(grayImage)\n",
    "plt.show()"
   ]
  },
  {
   "cell_type": "code",
   "execution_count": null,
   "metadata": {},
   "outputs": [],
   "source": [
    "(thresh, blackAndWhiteImage) = cv2.threshold(grayImage,1, 255, cv2.THRESH_BINARY)"
   ]
  },
  {
   "cell_type": "code",
   "execution_count": null,
   "metadata": {},
   "outputs": [],
   "source": [
    "plt.imshow(blackAndWhiteImage)\n",
    "plt.show()"
   ]
  },
  {
   "cell_type": "code",
   "execution_count": null,
   "metadata": {},
   "outputs": [],
   "source": [
    "len(r)"
   ]
  },
  {
   "cell_type": "code",
   "execution_count": null,
   "metadata": {},
   "outputs": [],
   "source": [
    "blackAndWhiteImage"
   ]
  },
  {
   "cell_type": "code",
   "execution_count": null,
   "metadata": {},
   "outputs": [],
   "source": []
  }
 ],
 "metadata": {
  "kernelspec": {
   "display_name": "texttf2",
   "language": "python",
   "name": "texttf2"
  },
  "language_info": {
   "codemirror_mode": {
    "name": "ipython",
    "version": 3
   },
   "file_extension": ".py",
   "mimetype": "text/x-python",
   "name": "python",
   "nbconvert_exporter": "python",
   "pygments_lexer": "ipython3",
   "version": "3.6.9"
  }
 },
 "nbformat": 4,
 "nbformat_minor": 4
}

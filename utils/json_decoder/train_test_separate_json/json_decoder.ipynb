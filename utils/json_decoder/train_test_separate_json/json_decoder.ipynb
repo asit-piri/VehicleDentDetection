{
 "cells": [
  {
   "cell_type": "markdown",
   "metadata": {},
   "source": [
    "# Decode Json Files\n",
    "\n",
    "Json files contain base64 encoded images and the location of the damage and its class in coco format. To use this data for UNet or basic Encoder-Decoder image segmentation model we need to convert the json files into 2 separate folders. One folders will contain the image in jpeg format and the other folder will contain the mask in numpy format where\n",
    "- 0 - background\n",
    "- 1 - scratch\n",
    "- 2 - dent\n",
    "- 3 - damage"
   ]
  },
  {
   "cell_type": "markdown",
   "metadata": {},
   "source": [
    "## Imports"
   ]
  },
  {
   "cell_type": "code",
   "execution_count": 1,
   "metadata": {
    "execution": {
     "iopub.execute_input": "2021-03-02T05:38:37.736938Z",
     "iopub.status.busy": "2021-03-02T05:38:37.735766Z",
     "iopub.status.idle": "2021-03-02T05:38:38.899973Z",
     "shell.execute_reply": "2021-03-02T05:38:38.896973Z",
     "shell.execute_reply.started": "2021-03-02T05:38:37.736750Z"
    }
   },
   "outputs": [],
   "source": [
    "import os\n",
    "import cv2\n",
    "import json\n",
    "import base64\n",
    "import skimage.draw\n",
    "import numpy as np"
   ]
  },
  {
   "cell_type": "markdown",
   "metadata": {},
   "source": [
    "## Convert Damaage type to Class Number"
   ]
  },
  {
   "cell_type": "code",
   "execution_count": 2,
   "metadata": {
    "execution": {
     "iopub.execute_input": "2021-03-02T05:38:40.853853Z",
     "iopub.status.busy": "2021-03-02T05:38:40.853177Z",
     "iopub.status.idle": "2021-03-02T05:38:40.863190Z",
     "shell.execute_reply": "2021-03-02T05:38:40.861168Z",
     "shell.execute_reply.started": "2021-03-02T05:38:40.853778Z"
    }
   },
   "outputs": [],
   "source": [
    "def damage_type_to_class(damage_type):\n",
    "    damage = damage_type.lower()\n",
    "    if damage == 'scratch':\n",
    "        return 1\n",
    "    elif damage == 'dent':\n",
    "        return 2\n",
    "    else:\n",
    "        return 3"
   ]
  },
  {
   "cell_type": "markdown",
   "metadata": {},
   "source": [
    "## base64 Decoder"
   ]
  },
  {
   "cell_type": "code",
   "execution_count": 3,
   "metadata": {
    "execution": {
     "iopub.execute_input": "2021-03-02T05:38:42.058110Z",
     "iopub.status.busy": "2021-03-02T05:38:42.057450Z",
     "iopub.status.idle": "2021-03-02T05:38:42.070616Z",
     "shell.execute_reply": "2021-03-02T05:38:42.068458Z",
     "shell.execute_reply.started": "2021-03-02T05:38:42.058036Z"
    }
   },
   "outputs": [],
   "source": [
    "def string_to_img(img_string, path):\n",
    "    '''\n",
    "    Takes the image string in byte format and stores it in the given path\n",
    "    '''\n",
    "    # write the string in a temp file\n",
    "    with open('tmp', 'w') as op:\n",
    "        op.write(img_string)\n",
    "    # read the file as binary format\n",
    "    with open('tmp', 'rb') as ip:\n",
    "        img_bin = ip.read()\n",
    "    # decode the binary and store the resultant data as jpeg\n",
    "    with open(path, 'wb') as op:\n",
    "        op.write(base64.decodestring(img_bin))"
   ]
  },
  {
   "cell_type": "markdown",
   "metadata": {},
   "source": [
    "## Annotation to Mask Converter"
   ]
  },
  {
   "cell_type": "code",
   "execution_count": 4,
   "metadata": {
    "execution": {
     "iopub.execute_input": "2021-03-02T05:38:43.277256Z",
     "iopub.status.busy": "2021-03-02T05:38:43.276600Z",
     "iopub.status.idle": "2021-03-02T05:38:43.289511Z",
     "shell.execute_reply": "2021-03-02T05:38:43.287107Z",
     "shell.execute_reply.started": "2021-03-02T05:38:43.277182Z"
    }
   },
   "outputs": [],
   "source": [
    "def add_annotation_to_mask(annotation, mask, damage_class):\n",
    "    '''\n",
    "    Takes annotations which is a list of points and then converts that into a numpy array with pixel level classification\n",
    "    i.e. a set of points are converted into polygon and the corresponding pixels are classified based on damage class\n",
    "    '''\n",
    "    # take the masks and convert them to polygon\n",
    "    an = np.array(annotation)\n",
    "    an = an.squeeze()\n",
    "    polygon = skimage.draw.polygon(an[:,1], an[:,0], mask.shape)\n",
    "    \n",
    "    # create the actual mask\n",
    "    mask[polygon[0], polygon[1]] = damage_class\n",
    "    return mask"
   ]
  },
  {
   "cell_type": "markdown",
   "metadata": {},
   "source": [
    "## Putting it all together"
   ]
  },
  {
   "cell_type": "code",
   "execution_count": 5,
   "metadata": {
    "execution": {
     "iopub.execute_input": "2021-03-02T05:38:44.813593Z",
     "iopub.status.busy": "2021-03-02T05:38:44.812950Z",
     "iopub.status.idle": "2021-03-02T05:38:44.831368Z",
     "shell.execute_reply": "2021-03-02T05:38:44.829019Z",
     "shell.execute_reply.started": "2021-03-02T05:38:44.813520Z"
    }
   },
   "outputs": [],
   "source": [
    "def process_json(file, source, image_dest, mask_dest):\n",
    "    file_path = os.path.join(source, file)\n",
    "    with open(file_path, 'r') as op:\n",
    "        json_data = json.load(op)\n",
    "    # extract image in base64 format\n",
    "    img_str = json_data['imageData']\n",
    "\n",
    "    # extract the image name\n",
    "    img_name = file[:-5] + '.jpeg'#json_data['imagePath']\n",
    "\n",
    "    # store the image\n",
    "    image_path = os.path.join(image_dest, img_name)\n",
    "    string_to_img(img_str, image_path)\n",
    "\n",
    "    img = cv2.imread(image_path)\n",
    "    img_shape = img.shape[0:2]\n",
    "\n",
    "    # dummy mask to hold annotations\n",
    "    mask = np.zeros(img_shape)\n",
    "    #print(len(json_data['shapes']))\n",
    "    for shape in json_data['shapes']:\n",
    "        # extract the damage type\n",
    "        damage_type = shape['label']\n",
    "\n",
    "        # extract the annotations\n",
    "        annotation = shape['points']\n",
    "        \n",
    "        # store the mask\n",
    "        damage = damage_type_to_class(damage_type)\n",
    "        #print(damage)\n",
    "        #print(np.any(mask==2))\n",
    "        mask = add_annotation_to_mask(annotation, mask, damage)\n",
    "        #print(np.any(mask==3))\n",
    "\n",
    "    mask_path = os.path.join(mask_dest, img_name)\n",
    "    np.save(mask_path, mask)\n",
    "    #cv2.imwrite(mask_path, mask)"
   ]
  },
  {
   "cell_type": "code",
   "execution_count": 6,
   "metadata": {
    "execution": {
     "iopub.execute_input": "2021-03-02T05:38:48.865355Z",
     "iopub.status.busy": "2021-03-02T05:38:48.864719Z",
     "iopub.status.idle": "2021-03-02T05:38:48.878116Z",
     "shell.execute_reply": "2021-03-02T05:38:48.875910Z",
     "shell.execute_reply.started": "2021-03-02T05:38:48.865282Z"
    }
   },
   "outputs": [],
   "source": [
    "def convert_json_to_model_data(source, image_dest, mask_dest):\n",
    "    '''\n",
    "    takes in json files as input which contains the image in byte64 format and annotations in list of point format\n",
    "    and stores the images in jpeg format in image_dest\n",
    "    and stores the mask with pixel level annotation in mask_dest\n",
    "    '''\n",
    "    # read the list of json files\n",
    "    file_list = [f for f in os.listdir(source) if f.endswith('.json')]\n",
    "    print('Processing {} files'.format(len(file_list)))\n",
    "    done_files = 0\n",
    "    for file in file_list:\n",
    "        process_json(file, source, image_dest, mask_dest)\n",
    "        done_files += 1\n",
    "        if done_files % 20 == 0:\n",
    "            print('Done processing {} files'.format(done_files))\n",
    "    \n",
    "    print('Finished Processing')"
   ]
  },
  {
   "cell_type": "markdown",
   "metadata": {},
   "source": [
    "## Convert train images"
   ]
  },
  {
   "cell_type": "code",
   "execution_count": 7,
   "metadata": {
    "execution": {
     "iopub.execute_input": "2021-03-02T05:17:26.364514Z",
     "iopub.status.busy": "2021-03-02T05:17:26.363840Z",
     "iopub.status.idle": "2021-03-02T05:17:26.373659Z",
     "shell.execute_reply": "2021-03-02T05:17:26.371146Z",
     "shell.execute_reply.started": "2021-03-02T05:17:26.364436Z"
    }
   },
   "outputs": [],
   "source": [
    "train_source_dir = r'train'\n",
    "train_img_dir = r'train_images'\n",
    "train_mask_dir = r'train_pixel_masks'"
   ]
  },
  {
   "cell_type": "code",
   "execution_count": 8,
   "metadata": {
    "execution": {
     "iopub.execute_input": "2021-03-02T05:17:28.141313Z",
     "iopub.status.busy": "2021-03-02T05:17:28.140648Z",
     "iopub.status.idle": "2021-03-02T05:17:28.750065Z",
     "shell.execute_reply": "2021-03-02T05:17:28.747419Z",
     "shell.execute_reply.started": "2021-03-02T05:17:28.141238Z"
    }
   },
   "outputs": [],
   "source": [
    "!rm -rf {train_img_dir}\n",
    "!rm -rf {train_mask_dir}\n",
    "!mkdir {train_img_dir}\n",
    "!mkdir {train_mask_dir}"
   ]
  },
  {
   "cell_type": "code",
   "execution_count": 9,
   "metadata": {
    "execution": {
     "iopub.execute_input": "2021-03-02T05:17:30.982926Z",
     "iopub.status.busy": "2021-03-02T05:17:30.982237Z",
     "iopub.status.idle": "2021-03-02T05:20:54.399518Z",
     "shell.execute_reply": "2021-03-02T05:20:54.397670Z",
     "shell.execute_reply.started": "2021-03-02T05:17:30.982843Z"
    },
    "scrolled": true
   },
   "outputs": [
    {
     "name": "stdout",
     "output_type": "stream",
     "text": [
      "Processing 321 files\n",
      "1\n",
      "1\n",
      "1\n"
     ]
    },
    {
     "name": "stderr",
     "output_type": "stream",
     "text": [
      "<ipython-input-3-2963fd7da1ef>:13: DeprecationWarning: decodestring() is a deprecated alias since Python 3.1, use decodebytes()\n",
      "  op.write(base64.decodestring(img_bin))\n"
     ]
    },
    {
     "name": "stdout",
     "output_type": "stream",
     "text": [
      "2\n",
      "1\n",
      "1\n",
      "2\n",
      "2\n",
      "3\n",
      "1\n",
      "1\n",
      "4\n",
      "1\n",
      "1\n",
      "1\n",
      "1\n",
      "1\n",
      "2\n",
      "1\n",
      "1\n",
      "Done processing 20 files\n",
      "1\n",
      "1\n",
      "1\n",
      "2\n",
      "1\n",
      "1\n",
      "1\n",
      "1\n",
      "4\n",
      "1\n",
      "3\n",
      "1\n",
      "1\n",
      "1\n",
      "1\n",
      "1\n",
      "1\n",
      "1\n",
      "11\n",
      "2\n",
      "Done processing 40 files\n",
      "1\n",
      "1\n",
      "1\n",
      "2\n",
      "1\n",
      "2\n",
      "2\n",
      "1\n",
      "1\n",
      "2\n",
      "1\n",
      "1\n",
      "1\n",
      "1\n",
      "1\n",
      "4\n",
      "1\n",
      "2\n",
      "1\n",
      "1\n",
      "Done processing 60 files\n",
      "1\n",
      "1\n",
      "1\n",
      "1\n",
      "1\n",
      "6\n",
      "2\n",
      "1\n",
      "1\n",
      "1\n",
      "1\n",
      "1\n",
      "1\n",
      "2\n",
      "1\n",
      "1\n",
      "1\n",
      "2\n",
      "3\n",
      "2\n",
      "Done processing 80 files\n",
      "2\n",
      "1\n",
      "1\n",
      "1\n",
      "1\n",
      "1\n",
      "1\n",
      "1\n",
      "1\n",
      "2\n",
      "4\n",
      "1\n",
      "1\n",
      "1\n",
      "21\n",
      "3\n",
      "1\n",
      "1\n",
      "12\n",
      "1\n",
      "Done processing 100 files\n",
      "1\n",
      "1\n",
      "1\n",
      "2\n",
      "1\n",
      "1\n",
      "5\n",
      "1\n",
      "7\n",
      "1\n",
      "1\n",
      "1\n",
      "1\n",
      "1\n",
      "3\n",
      "1\n",
      "1\n",
      "1\n",
      "1\n",
      "1\n",
      "Done processing 120 files\n",
      "1\n",
      "3\n",
      "1\n",
      "1\n",
      "2\n",
      "1\n",
      "1\n",
      "1\n",
      "1\n",
      "2\n",
      "1\n",
      "1\n",
      "1\n",
      "1\n",
      "1\n",
      "2\n",
      "1\n",
      "1\n",
      "1\n",
      "1\n",
      "Done processing 140 files\n",
      "4\n",
      "7\n",
      "1\n",
      "2\n",
      "1\n",
      "1\n",
      "8\n",
      "1\n",
      "1\n",
      "6\n",
      "1\n",
      "1\n",
      "1\n",
      "2\n",
      "1\n",
      "1\n",
      "1\n",
      "1\n",
      "1\n",
      "1\n",
      "Done processing 160 files\n",
      "2\n",
      "2\n",
      "1\n",
      "4\n",
      "4\n",
      "1\n",
      "1\n",
      "1\n",
      "1\n",
      "2\n",
      "4\n",
      "1\n",
      "4\n",
      "1\n",
      "1\n",
      "4\n",
      "7\n",
      "1\n",
      "1\n",
      "1\n",
      "Done processing 180 files\n",
      "1\n",
      "2\n",
      "1\n",
      "1\n",
      "1\n",
      "1\n",
      "1\n",
      "1\n",
      "1\n",
      "1\n",
      "1\n",
      "1\n",
      "9\n",
      "1\n",
      "1\n",
      "3\n",
      "1\n",
      "1\n",
      "1\n",
      "1\n",
      "Done processing 200 files\n",
      "1\n",
      "2\n",
      "1\n",
      "3\n",
      "2\n",
      "1\n",
      "1\n",
      "1\n",
      "1\n",
      "1\n",
      "1\n",
      "2\n",
      "1\n",
      "4\n",
      "2\n",
      "4\n",
      "1\n",
      "2\n",
      "1\n",
      "1\n",
      "Done processing 220 files\n",
      "3\n",
      "1\n",
      "1\n",
      "2\n",
      "1\n",
      "2\n",
      "1\n",
      "4\n",
      "1\n",
      "1\n",
      "6\n",
      "1\n",
      "1\n",
      "1\n",
      "1\n",
      "1\n",
      "1\n",
      "1\n",
      "2\n",
      "1\n",
      "Done processing 240 files\n",
      "1\n",
      "1\n",
      "1\n",
      "1\n",
      "1\n",
      "1\n",
      "1\n",
      "1\n",
      "1\n",
      "1\n",
      "1\n",
      "1\n",
      "1\n",
      "1\n",
      "2\n",
      "2\n",
      "2\n",
      "1\n",
      "1\n",
      "1\n",
      "Done processing 260 files\n",
      "6\n",
      "2\n",
      "7\n",
      "1\n",
      "1\n",
      "1\n",
      "1\n",
      "1\n",
      "1\n",
      "1\n",
      "1\n",
      "1\n",
      "1\n",
      "1\n",
      "1\n",
      "1\n",
      "1\n",
      "1\n",
      "3\n",
      "1\n",
      "Done processing 280 files\n",
      "1\n",
      "2\n",
      "1\n",
      "6\n",
      "3\n",
      "2\n",
      "1\n",
      "1\n",
      "1\n",
      "1\n",
      "2\n",
      "3\n",
      "1\n",
      "1\n",
      "4\n",
      "1\n",
      "1\n",
      "1\n",
      "1\n",
      "1\n",
      "Done processing 300 files\n",
      "1\n",
      "1\n",
      "5\n",
      "5\n",
      "1\n",
      "1\n",
      "6\n",
      "1\n",
      "1\n",
      "2\n",
      "1\n",
      "1\n",
      "1\n",
      "2\n",
      "1\n",
      "1\n",
      "1\n",
      "1\n",
      "1\n",
      "1\n",
      "Done processing 320 files\n",
      "1\n",
      "Finished Processing\n"
     ]
    }
   ],
   "source": [
    "convert_json_to_model_data(train_source_dir, train_img_dir, train_mask_dir)"
   ]
  },
  {
   "cell_type": "code",
   "execution_count": 10,
   "metadata": {
    "execution": {
     "iopub.execute_input": "2021-03-02T05:21:16.013558Z",
     "iopub.status.busy": "2021-03-02T05:21:16.006724Z",
     "iopub.status.idle": "2021-03-02T05:21:16.284846Z",
     "shell.execute_reply": "2021-03-02T05:21:16.282141Z",
     "shell.execute_reply.started": "2021-03-02T05:21:16.013445Z"
    }
   },
   "outputs": [],
   "source": [
    "!rm tmp"
   ]
  },
  {
   "cell_type": "markdown",
   "metadata": {},
   "source": [
    "## Convert test images"
   ]
  },
  {
   "cell_type": "code",
   "execution_count": 7,
   "metadata": {
    "execution": {
     "iopub.execute_input": "2021-03-02T05:38:54.033838Z",
     "iopub.status.busy": "2021-03-02T05:38:54.033181Z",
     "iopub.status.idle": "2021-03-02T05:38:54.041986Z",
     "shell.execute_reply": "2021-03-02T05:38:54.039871Z",
     "shell.execute_reply.started": "2021-03-02T05:38:54.033763Z"
    }
   },
   "outputs": [],
   "source": [
    "test_source_dir = r'test'\n",
    "test_img_dir = r'test_images'\n",
    "test_mask_dir = r'test_pixel_masks'"
   ]
  },
  {
   "cell_type": "code",
   "execution_count": 8,
   "metadata": {
    "execution": {
     "iopub.execute_input": "2021-03-02T05:38:54.455429Z",
     "iopub.status.busy": "2021-03-02T05:38:54.454766Z",
     "iopub.status.idle": "2021-03-02T05:38:55.017283Z",
     "shell.execute_reply": "2021-03-02T05:38:55.014728Z",
     "shell.execute_reply.started": "2021-03-02T05:38:54.455356Z"
    }
   },
   "outputs": [],
   "source": [
    "!rm -rf {test_img_dir}\n",
    "!rm -rf {test_mask_dir}\n",
    "!mkdir {test_img_dir}\n",
    "!mkdir {test_mask_dir}"
   ]
  },
  {
   "cell_type": "code",
   "execution_count": 9,
   "metadata": {
    "execution": {
     "iopub.execute_input": "2021-03-02T05:38:55.095607Z",
     "iopub.status.busy": "2021-03-02T05:38:55.094882Z",
     "iopub.status.idle": "2021-03-02T05:39:53.962742Z",
     "shell.execute_reply": "2021-03-02T05:39:53.960448Z",
     "shell.execute_reply.started": "2021-03-02T05:38:55.095526Z"
    },
    "scrolled": true
   },
   "outputs": [
    {
     "name": "stdout",
     "output_type": "stream",
     "text": [
      "Processing 81 files\n"
     ]
    },
    {
     "name": "stderr",
     "output_type": "stream",
     "text": [
      "<ipython-input-3-2963fd7da1ef>:13: DeprecationWarning: decodestring() is a deprecated alias since Python 3.1, use decodebytes()\n",
      "  op.write(base64.decodestring(img_bin))\n"
     ]
    },
    {
     "name": "stdout",
     "output_type": "stream",
     "text": [
      "Done processing 20 files\n",
      "Done processing 40 files\n",
      "Done processing 60 files\n",
      "Done processing 80 files\n",
      "Finished Processing\n"
     ]
    }
   ],
   "source": [
    "convert_json_to_model_data(test_source_dir, test_img_dir, test_mask_dir)"
   ]
  },
  {
   "cell_type": "code",
   "execution_count": 10,
   "metadata": {
    "execution": {
     "iopub.execute_input": "2021-03-02T05:39:58.563622Z",
     "iopub.status.busy": "2021-03-02T05:39:58.562965Z",
     "iopub.status.idle": "2021-03-02T05:40:00.103374Z",
     "shell.execute_reply": "2021-03-02T05:40:00.100979Z",
     "shell.execute_reply.started": "2021-03-02T05:39:58.563549Z"
    }
   },
   "outputs": [],
   "source": [
    "!rm tmp"
   ]
  },
  {
   "cell_type": "code",
   "execution_count": 70,
   "metadata": {
    "execution": {
     "iopub.execute_input": "2021-02-20T14:11:19.180205Z",
     "iopub.status.busy": "2021-02-20T14:11:19.179568Z",
     "iopub.status.idle": "2021-02-20T14:11:19.206567Z",
     "shell.execute_reply": "2021-02-20T14:11:19.203788Z",
     "shell.execute_reply.started": "2021-02-20T14:11:19.180129Z"
    }
   },
   "outputs": [
    {
     "data": {
      "text/plain": [
       "{'version': '3.16.7',\n",
       " 'flags': {},\n",
       " 'shapes': [{'label': 'Dent',\n",
       "   'line_color': None,\n",
       "   'fill_color': None,\n",
       "   'points': [[681.5909090909091, 214.04545454545453],\n",
       "    [635.0, 226.54545454545453],\n",
       "    [608.8636363636364, 204.95454545454547],\n",
       "    [554.3181818181819, 272.0],\n",
       "    [547.5, 334.5],\n",
       "    [500.9090909090909, 415.1818181818182],\n",
       "    [480.4545454545455, 445.8636363636364],\n",
       "    [514.5454545454545, 443.59090909090907],\n",
       "    [542.9545454545455, 407.22727272727275],\n",
       "    [669.0909090909091, 398.1363636363636]],\n",
       "   'shape_type': 'polygon',\n",
       "   'flags': {}}],\n",
       " 'lineColor': [0, 255, 0, 128],\n",
       " 'fillColor': [255, 0, 0, 128],\n",
       " 'imagePath': 'Bing_0043.jpeg',\n",
       " 'imageData': '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',\n",
       " 'imageHeight': 730,\n",
       " 'imageWidth': 950}"
      ]
     },
     "execution_count": 70,
     "metadata": {},
     "output_type": "execute_result"
    }
   ],
   "source": [
    "json_data"
   ]
  },
  {
   "cell_type": "code",
   "execution_count": null,
   "metadata": {},
   "outputs": [],
   "source": []
  }
 ],
 "metadata": {
  "kernelspec": {
   "display_name": "tf-gpu-2.3",
   "language": "python",
   "name": "tf-gpu-2.3"
  },
  "language_info": {
   "codemirror_mode": {
    "name": "ipython",
    "version": 3
   },
   "file_extension": ".py",
   "mimetype": "text/x-python",
   "name": "python",
   "nbconvert_exporter": "python",
   "pygments_lexer": "ipython3",
   "version": "3.8.3"
  },
  "widgets": {
   "application/vnd.jupyter.widget-state+json": {
    "state": {},
    "version_major": 2,
    "version_minor": 0
   }
  }
 },
 "nbformat": 4,
 "nbformat_minor": 4
}

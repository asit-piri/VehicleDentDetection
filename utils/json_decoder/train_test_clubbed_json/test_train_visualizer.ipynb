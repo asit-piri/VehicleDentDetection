{
 "cells": [
  {
   "cell_type": "code",
   "execution_count": 1,
   "metadata": {
    "execution": {
     "iopub.execute_input": "2021-02-21T07:34:02.228842Z",
     "iopub.status.busy": "2021-02-21T07:34:02.228111Z",
     "iopub.status.idle": "2021-02-21T07:34:02.238125Z",
     "shell.execute_reply": "2021-02-21T07:34:02.235150Z",
     "shell.execute_reply.started": "2021-02-21T07:34:02.228761Z"
    }
   },
   "outputs": [],
   "source": [
    "import os\n",
    "import json"
   ]
  },
  {
   "cell_type": "code",
   "execution_count": 3,
   "metadata": {
    "execution": {
     "iopub.execute_input": "2021-02-21T07:34:36.371083Z",
     "iopub.status.busy": "2021-02-21T07:34:36.370379Z",
     "iopub.status.idle": "2021-02-21T07:34:36.462691Z",
     "shell.execute_reply": "2021-02-21T07:34:36.460562Z",
     "shell.execute_reply.started": "2021-02-21T07:34:36.370987Z"
    }
   },
   "outputs": [],
   "source": [
    "with open('trainval.json', 'r') as op:\n",
    "    json_data = json.load(op)"
   ]
  },
  {
   "cell_type": "code",
   "execution_count": 6,
   "metadata": {
    "execution": {
     "iopub.execute_input": "2021-02-21T07:34:51.461843Z",
     "iopub.status.busy": "2021-02-21T07:34:51.461206Z",
     "iopub.status.idle": "2021-02-21T07:34:51.472593Z",
     "shell.execute_reply": "2021-02-21T07:34:51.470500Z",
     "shell.execute_reply.started": "2021-02-21T07:34:51.461768Z"
    }
   },
   "outputs": [
    {
     "data": {
      "text/plain": [
       "dict_keys(['images', 'categories', 'annotations'])"
      ]
     },
     "execution_count": 6,
     "metadata": {},
     "output_type": "execute_result"
    }
   ],
   "source": [
    "json_data.keys()"
   ]
  },
  {
   "cell_type": "code",
   "execution_count": 9,
   "metadata": {
    "execution": {
     "iopub.execute_input": "2021-02-21T07:36:17.934879Z",
     "iopub.status.busy": "2021-02-21T07:36:17.934228Z",
     "iopub.status.idle": "2021-02-21T07:36:17.948524Z",
     "shell.execute_reply": "2021-02-21T07:36:17.946062Z",
     "shell.execute_reply.started": "2021-02-21T07:36:17.934801Z"
    }
   },
   "outputs": [
    {
     "data": {
      "text/plain": [
       "[{'supercategory': 'Damage', 'id': 0, 'name': 'Damage'},\n",
       " {'supercategory': 'Dent', 'id': 1, 'name': 'Dent'},\n",
       " {'supercategory': 'Scratch', 'id': 2, 'name': 'Scratch'}]"
      ]
     },
     "execution_count": 9,
     "metadata": {},
     "output_type": "execute_result"
    }
   ],
   "source": [
    "json_data['categories']"
   ]
  },
  {
   "cell_type": "code",
   "execution_count": 10,
   "metadata": {
    "execution": {
     "iopub.execute_input": "2021-02-21T07:37:43.447397Z",
     "iopub.status.busy": "2021-02-21T07:37:43.446727Z",
     "iopub.status.idle": "2021-02-21T07:37:43.461517Z",
     "shell.execute_reply": "2021-02-21T07:37:43.459543Z",
     "shell.execute_reply.started": "2021-02-21T07:37:43.447321Z"
    }
   },
   "outputs": [],
   "source": [
    "dent_list = []\n",
    "scratch_list = []\n",
    "damage_list = []\n",
    "for ann in json_data['annotations']:\n",
    "    if ann['category_id'] == 0:\n",
    "        damage_list.append(ann['image_id'])\n",
    "    elif ann['category_id'] == 1:\n",
    "        dent_list.append(ann['image_id'])\n",
    "    else:\n",
    "        scratch_list.append(ann['image_id'])"
   ]
  },
  {
   "cell_type": "code",
   "execution_count": 11,
   "metadata": {
    "execution": {
     "iopub.execute_input": "2021-02-21T07:37:52.385836Z",
     "iopub.status.busy": "2021-02-21T07:37:52.385196Z",
     "iopub.status.idle": "2021-02-21T07:37:52.399346Z",
     "shell.execute_reply": "2021-02-21T07:37:52.396539Z",
     "shell.execute_reply.started": "2021-02-21T07:37:52.385762Z"
    }
   },
   "outputs": [
    {
     "data": {
      "text/plain": [
       "253"
      ]
     },
     "execution_count": 11,
     "metadata": {},
     "output_type": "execute_result"
    }
   ],
   "source": [
    "len(dent_list)"
   ]
  },
  {
   "cell_type": "code",
   "execution_count": 12,
   "metadata": {
    "execution": {
     "iopub.execute_input": "2021-02-21T07:37:57.009393Z",
     "iopub.status.busy": "2021-02-21T07:37:57.008425Z",
     "iopub.status.idle": "2021-02-21T07:37:57.025309Z",
     "shell.execute_reply": "2021-02-21T07:37:57.022394Z",
     "shell.execute_reply.started": "2021-02-21T07:37:57.009268Z"
    }
   },
   "outputs": [
    {
     "data": {
      "text/plain": [
       "170"
      ]
     },
     "execution_count": 12,
     "metadata": {},
     "output_type": "execute_result"
    }
   ],
   "source": [
    "len(damage_list)"
   ]
  },
  {
   "cell_type": "code",
   "execution_count": 13,
   "metadata": {
    "execution": {
     "iopub.execute_input": "2021-02-21T07:38:03.193262Z",
     "iopub.status.busy": "2021-02-21T07:38:03.192552Z",
     "iopub.status.idle": "2021-02-21T07:38:03.205986Z",
     "shell.execute_reply": "2021-02-21T07:38:03.203060Z",
     "shell.execute_reply.started": "2021-02-21T07:38:03.193179Z"
    }
   },
   "outputs": [
    {
     "data": {
      "text/plain": [
       "279"
      ]
     },
     "execution_count": 13,
     "metadata": {},
     "output_type": "execute_result"
    }
   ],
   "source": [
    "len(scratch_list)"
   ]
  },
  {
   "cell_type": "code",
   "execution_count": 14,
   "metadata": {
    "execution": {
     "iopub.execute_input": "2021-02-21T07:38:50.365757Z",
     "iopub.status.busy": "2021-02-21T07:38:50.365092Z",
     "iopub.status.idle": "2021-02-21T07:38:50.378316Z",
     "shell.execute_reply": "2021-02-21T07:38:50.375768Z",
     "shell.execute_reply.started": "2021-02-21T07:38:50.365675Z"
    }
   },
   "outputs": [
    {
     "data": {
      "text/plain": [
       "702"
      ]
     },
     "execution_count": 14,
     "metadata": {},
     "output_type": "execute_result"
    }
   ],
   "source": [
    "253 + 170 + 279"
   ]
  },
  {
   "cell_type": "code",
   "execution_count": null,
   "metadata": {},
   "outputs": [],
   "source": []
  }
 ],
 "metadata": {
  "kernelspec": {
   "display_name": "tf-gpu-2.3",
   "language": "python",
   "name": "tf-gpu-2.3"
  },
  "language_info": {
   "codemirror_mode": {
    "name": "ipython",
    "version": 3
   },
   "file_extension": ".py",
   "mimetype": "text/x-python",
   "name": "python",
   "nbconvert_exporter": "python",
   "pygments_lexer": "ipython3",
   "version": "3.8.3"
  },
  "widgets": {
   "application/vnd.jupyter.widget-state+json": {
    "state": {},
    "version_major": 2,
    "version_minor": 0
   }
  }
 },
 "nbformat": 4,
 "nbformat_minor": 4
}
